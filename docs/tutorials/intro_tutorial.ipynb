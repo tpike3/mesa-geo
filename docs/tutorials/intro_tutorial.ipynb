{
 "cells": [
  {
   "cell_type": "code",
   "execution_count": 1,
   "id": "00534d30-7a44-4f07-b21a-0fdbd2caef01",
   "metadata": {
    "has_explanation": false
   },
   "outputs": [
    {
     "name": "stdout",
     "output_type": "stream",
     "text": [
      "Name: Mesa-Geo\n",
      "Version: 0.7.1\n",
      "Summary: GIS Agent-based modeling (ABM) in Python\n",
      "Home-page: \n",
      "Author: \n",
      "Author-email: Project Mesa Team <projectmesa@googlegroups.com>\n",
      "License: Apache 2.0\n",
      "Location: C:\\Users\\thoma\\miniconda3\\envs\\mesa_geo\\Lib\\site-packages\n",
      "Editable project location: C:\\Users\\thoma\\Documents\\GitHub\\dev\\mesa-geo\n",
      "Requires: folium, geopandas, ipyleaflet, libpysal, mesa, pyproj, rasterio, rtree, shapely, xyzservices\n",
      "Required-by: \n"
     ]
    }
   ],
   "source": [
    "!pip show mesa_geo"
   ]
  },
  {
   "cell_type": "code",
   "execution_count": 2,
   "id": "73ba01ed-02a3-4b2f-945f-626124be2d20",
   "metadata": {},
   "outputs": [
    {
     "name": "stdout",
     "output_type": "stream",
     "text": [
      "C:\\Users\\thoma\\miniconda3\\envs\\mesa_geo\\python.exe\n"
     ]
    }
   ],
   "source": [
    "import sys\n",
    "print(sys.executable)"
   ]
  },
  {
   "cell_type": "code",
   "execution_count": 4,
   "id": "fc1c60db-7af2-4ff7-8ba3-63143e404a4b",
   "metadata": {},
   "outputs": [
    {
     "name": "stdout",
     "output_type": "stream",
     "text": [
      "['C:\\\\Users\\\\thoma\\\\miniconda3\\\\envs\\\\mesa_geo\\\\python312.zip', 'C:\\\\Users\\\\thoma\\\\miniconda3\\\\envs\\\\mesa_geo\\\\DLLs', 'C:\\\\Users\\\\thoma\\\\miniconda3\\\\envs\\\\mesa_geo\\\\Lib', 'C:\\\\Users\\\\thoma\\\\miniconda3\\\\envs\\\\mesa_geo', '', 'C:\\\\Users\\\\thoma\\\\miniconda3\\\\envs\\\\mesa_geo\\\\Lib\\\\site-packages', 'C:\\\\Users\\\\thoma\\\\miniconda3\\\\envs\\\\mesa_geo\\\\Lib\\\\site-packages\\\\win32', 'C:\\\\Users\\\\thoma\\\\miniconda3\\\\envs\\\\mesa_geo\\\\Lib\\\\site-packages\\\\win32\\\\lib', 'C:\\\\Users\\\\thoma\\\\miniconda3\\\\envs\\\\mesa_geo\\\\Lib\\\\site-packages\\\\Pythonwin']\n"
     ]
    }
   ],
   "source": [
    "import sys\n",
    "print(sys.path)"
   ]
  },
  {
   "cell_type": "code",
   "execution_count": 3,
   "id": "c7d43c11-a846-45e1-bbcf-77de58ff5033",
   "metadata": {
    "has_explanation": false
   },
   "outputs": [
    {
     "ename": "ModuleNotFoundError",
     "evalue": "No module named 'mesa_geo'",
     "output_type": "error",
     "traceback": [
      "\u001b[1;31m---------------------------------------------------------------------------\u001b[0m",
      "\u001b[1;31mModuleNotFoundError\u001b[0m                       Traceback (most recent call last)",
      "Cell \u001b[1;32mIn[3], line 4\u001b[0m\n\u001b[0;32m      1\u001b[0m \u001b[38;5;28;01mfrom\u001b[39;00m \u001b[38;5;21;01mshapely\u001b[39;00m\u001b[38;5;21;01m.\u001b[39;00m\u001b[38;5;21;01mgeometry\u001b[39;00m \u001b[38;5;28;01mimport\u001b[39;00m Point\n\u001b[0;32m      3\u001b[0m \u001b[38;5;28;01mimport\u001b[39;00m \u001b[38;5;21;01mmesa\u001b[39;00m\n\u001b[1;32m----> 4\u001b[0m \u001b[38;5;28;01mimport\u001b[39;00m \u001b[38;5;21;01mmesa_geo\u001b[39;00m \u001b[38;5;28;01mas\u001b[39;00m \u001b[38;5;21;01mmg\u001b[39;00m\n\u001b[0;32m      5\u001b[0m \u001b[38;5;28;01mimport\u001b[39;00m \u001b[38;5;21;01mmesa_geo\u001b[39;00m\u001b[38;5;21;01m.\u001b[39;00m\u001b[38;5;21;01mvisualization\u001b[39;00m \u001b[38;5;28;01mas\u001b[39;00m \u001b[38;5;21;01mmgv\u001b[39;00m\n",
      "\u001b[1;31mModuleNotFoundError\u001b[0m: No module named 'mesa_geo'"
     ]
    }
   ],
   "source": [
    "from shapely.geometry import Point\n",
    "\n",
    "import mesa\n",
    "import mesa_geo as mg\n",
    "import mesa_geo.visualization as mgv\n"
   ]
  },
  {
   "cell_type": "code",
   "execution_count": null,
   "id": "1f1464a7-372b-4ebd-8683-3822ad9afee1",
   "metadata": {
    "has_explanation": false,
    "jupyter": {
     "source_hidden": true
    }
   },
   "outputs": [],
   "source": [
    "class PersonAgent(mg.GeoAgent):\n",
    "    \"\"\"Person Agent.\"\"\"\n",
    "\n",
    "    def __init__(\n",
    "        self,\n",
    "        unique_id,\n",
    "        model,\n",
    "        geometry,\n",
    "        crs,\n",
    "        agent_type=\"susceptible\",\n",
    "        mobility_range=100,\n",
    "        recovery_rate=0.2,\n",
    "        death_risk=0.1,\n",
    "        init_infected=0.1,\n",
    "    ):\n",
    "        \"\"\"\n",
    "        Create a new person agent.\n",
    "        :param unique_id:   Unique identifier for the agent\n",
    "        :param model:       Model in which the agent runs\n",
    "        :param geometry:    Shape object for the agent\n",
    "        :param agent_type:  Indicator if agent is infected\n",
    "                            (\"infected\", \"susceptible\", \"recovered\" or \"dead\")\n",
    "        :param mobility_range:  Range of distance to move in one step\n",
    "        \"\"\"\n",
    "        super().__init__(unique_id, model, geometry, crs)\n",
    "        # Agent parameters\n",
    "        self.atype = agent_type\n",
    "        self.mobility_range = mobility_range\n",
    "        self.recovery_rate = recovery_rate\n",
    "        self.death_risk = death_risk\n",
    "\n",
    "        # Random choose if infected\n",
    "        if self.random.random() < init_infected:\n",
    "            self.atype = \"infected\"\n",
    "            self.model.counts[\"infected\"] += 1  # Adjust initial counts\n",
    "            self.model.counts[\"susceptible\"] -= 1\n",
    "\n",
    "    def move_point(self, dx, dy):\n",
    "        \"\"\"\n",
    "        Move a point by creating a new one\n",
    "        :param dx:  Distance to move in x-axis\n",
    "        :param dy:  Distance to move in y-axis\n",
    "        \"\"\"\n",
    "        return Point(self.geometry.x + dx, self.geometry.y + dy)\n",
    "\n",
    "    def step(self):\n",
    "        \"\"\"Advance one step.\"\"\"\n",
    "        # If susceptible, check if exposed\n",
    "        if self.atype == \"susceptible\":\n",
    "            neighbors = self.model.space.get_neighbors_within_distance(\n",
    "                self, self.model.exposure_distance\n",
    "            )\n",
    "            for neighbor in neighbors:\n",
    "                if (\n",
    "                    neighbor.atype == \"infected\"\n",
    "                    and self.random.random() < self.model.infection_risk\n",
    "                ):\n",
    "                    self.atype = \"infected\"\n",
    "                    break\n",
    "\n",
    "        # If infected, check if it recovers or if it dies\n",
    "        elif self.atype == \"infected\":\n",
    "            if self.random.random() < self.recovery_rate:\n",
    "                self.atype = \"recovered\"\n",
    "            elif self.random.random() < self.death_risk:\n",
    "                self.atype = \"dead\"\n",
    "\n",
    "        # If not dead, move\n",
    "        if self.atype != \"dead\":\n",
    "            move_x = self.random.randint(-self.mobility_range, self.mobility_range)\n",
    "            move_y = self.random.randint(-self.mobility_range, self.mobility_range)\n",
    "            self.geometry = self.move_point(move_x, move_y)  # Reassign geometry\n",
    "\n",
    "        self.model.counts[self.atype] += 1  # Count agent type\n",
    "\n",
    "    def __repr__(self):\n",
    "        return \"Person \" + str(self.unique_id)\n",
    "\n",
    "\n",
    "class NeighbourhoodAgent(mg.GeoAgent):\n",
    "    \"\"\"Neighbourhood agent. Changes color according to number of infected inside it.\"\"\"\n",
    "\n",
    "    def __init__(\n",
    "        self, unique_id, model, geometry, crs, agent_type=\"safe\", hotspot_threshold=1\n",
    "    ):\n",
    "        \"\"\"\n",
    "        Create a new Neighbourhood agent.\n",
    "        :param unique_id:   Unique identifier for the agent\n",
    "        :param model:       Model in which the agent runs\n",
    "        :param geometry:    Shape object for the agent\n",
    "        :param agent_type:  Indicator if agent is infected\n",
    "                            (\"infected\", \"susceptible\", \"recovered\" or \"dead\")\n",
    "        :param hotspot_threshold:   Number of infected agents in region\n",
    "                                    to be considered a hot-spot\n",
    "        \"\"\"\n",
    "        super().__init__(unique_id, model, geometry, crs)\n",
    "        self.atype = agent_type\n",
    "        self.hotspot_threshold = (\n",
    "            hotspot_threshold  # When a neighborhood is considered a hot-spot\n",
    "        )\n",
    "        self.color_hotspot()\n",
    "\n",
    "    def step(self):\n",
    "        \"\"\"Advance agent one step.\"\"\"\n",
    "        self.color_hotspot()\n",
    "        self.model.counts[self.atype] += 1  # Count agent type\n",
    "\n",
    "    def color_hotspot(self):\n",
    "        # Decide if this region agent is a hot-spot\n",
    "        # (if more than threshold person agents are infected)\n",
    "        neighbors = self.model.space.get_intersecting_agents(self)\n",
    "        infected_neighbors = [\n",
    "            neighbor for neighbor in neighbors if neighbor.atype == \"infected\"\n",
    "        ]\n",
    "        if len(infected_neighbors) >= self.hotspot_threshold:\n",
    "            self.atype = \"hotspot\"\n",
    "        else:\n",
    "            self.atype = \"safe\"\n",
    "\n",
    "    def __repr__(self):\n",
    "        return \"Neighborhood \" + str(self.unique_id)"
   ]
  },
  {
   "cell_type": "code",
   "execution_count": null,
   "id": "96dcf7f2-6072-4ffc-9895-25291c769979",
   "metadata": {
    "has_explanation": false,
    "jupyter": {
     "source_hidden": true
    }
   },
   "outputs": [],
   "source": [
    "# Functions needed for datacollector\n",
    "def get_infected_count(model):\n",
    "    return model.counts[\"infected\"]\n",
    "\n",
    "\n",
    "def get_susceptible_count(model):\n",
    "    return model.counts[\"susceptible\"]\n",
    "\n",
    "\n",
    "def get_recovered_count(model):\n",
    "    return model.counts[\"recovered\"]\n",
    "\n",
    "\n",
    "def get_dead_count(model):\n",
    "    return model.counts[\"dead\"]\n",
    "\n",
    "class GeoSir(mesa.Model):\n",
    "    \"\"\"Model class for a simplistic infection model.\"\"\"\n",
    "\n",
    "    # Geographical parameters for desired map\n",
    "    geojson_regions = \"data/TorontoNeighbourhoods.geojson\"\n",
    "    unique_id = \"HOODNUM\"\n",
    "\n",
    "    def __init__(\n",
    "        self, pop_size=30, init_infected=0.2, exposure_distance=500, infection_risk=0.2\n",
    "    ):\n",
    "        \"\"\"\n",
    "        Create a new InfectedModel\n",
    "        :param pop_size:        Size of population\n",
    "        :param init_infected:   Probability of a person agent to start as infected\n",
    "        :param exposure_distance:   Proximity distance between agents\n",
    "                                    to be exposed to each other\n",
    "        :param infection_risk:      Probability of agent to become infected,\n",
    "                                    if it has been exposed to another infected\n",
    "        \"\"\"\n",
    "        self.schedule = mesa.time.BaseScheduler(self)\n",
    "        self.space = mg.GeoSpace(warn_crs_conversion=False)\n",
    "        self.steps = 0\n",
    "        self.counts = None\n",
    "        self.reset_counts()\n",
    "\n",
    "        # SIR model parameters\n",
    "        self.pop_size = pop_size\n",
    "        self.counts[\"susceptible\"] = pop_size\n",
    "        self.exposure_distance = exposure_distance\n",
    "        self.infection_risk = infection_risk\n",
    "\n",
    "        self.running = True\n",
    "        self.datacollector = mesa.DataCollector(\n",
    "            {\n",
    "                \"infected\": get_infected_count,\n",
    "                \"susceptible\": get_susceptible_count,\n",
    "                \"recovered\": get_recovered_count,\n",
    "                \"dead\": get_dead_count,\n",
    "            }\n",
    "        )\n",
    "\n",
    "        # Set up the Neighbourhood patches for every region in file\n",
    "        # (add to schedule later)\n",
    "        ac = mg.AgentCreator(NeighbourhoodAgent, model=self)\n",
    "        neighbourhood_agents = ac.from_file(\n",
    "            self.geojson_regions, unique_id=self.unique_id\n",
    "        )\n",
    "        self.space.add_agents(neighbourhood_agents)\n",
    "\n",
    "        # Generate PersonAgent population\n",
    "        ac_population = mg.AgentCreator(\n",
    "            PersonAgent,\n",
    "            model=self,\n",
    "            crs=self.space.crs,\n",
    "            agent_kwargs={\"init_infected\": init_infected},\n",
    "        )\n",
    "        # Generate random location, add agent to grid and scheduler\n",
    "        for i in range(pop_size):\n",
    "            this_neighbourhood = self.random.randint(\n",
    "                0, len(neighbourhood_agents) - 1\n",
    "            )  # Region where agent starts\n",
    "            center_x, center_y = neighbourhood_agents[\n",
    "                this_neighbourhood\n",
    "            ].geometry.centroid.coords.xy\n",
    "            this_bounds = neighbourhood_agents[this_neighbourhood].geometry.bounds\n",
    "            spread_x = int(\n",
    "                this_bounds[2] - this_bounds[0]\n",
    "            )  # Heuristic for agent spread in region\n",
    "            spread_y = int(this_bounds[3] - this_bounds[1])\n",
    "            this_x = center_x[0] + self.random.randint(0, spread_x) - spread_x / 2\n",
    "            this_y = center_y[0] + self.random.randint(0, spread_y) - spread_y / 2\n",
    "            this_person = ac_population.create_agent(\n",
    "                Point(this_x, this_y), \"P\" + str(i)\n",
    "            )\n",
    "            self.space.add_agents(this_person)\n",
    "            self.schedule.add(this_person)\n",
    "\n",
    "        # Add the neighbourhood agents to schedule AFTER person agents,\n",
    "        # to allow them to update their color by using BaseScheduler\n",
    "        for agent in neighbourhood_agents:\n",
    "            self.schedule.add(agent)\n",
    "\n",
    "        self.datacollector.collect(self)\n",
    "\n",
    "    def reset_counts(self):\n",
    "        self.counts = {\n",
    "            \"susceptible\": 0,\n",
    "            \"infected\": 0,\n",
    "            \"recovered\": 0,\n",
    "            \"dead\": 0,\n",
    "            \"safe\": 0,\n",
    "            \"hotspot\": 0,\n",
    "        }\n",
    "\n",
    "    def step(self):\n",
    "        \"\"\"Run one step of the model.\"\"\"\n",
    "        self.steps += 1\n",
    "        self.reset_counts()\n",
    "        self.schedule.step()\n",
    "\n",
    "        self.datacollector.collect(self)\n",
    "\n",
    "        # Run until no one is infected\n",
    "        if self.counts[\"infected\"] == 0:\n",
    "            self.running = False\n",
    "\n",
    "\n"
   ]
  },
  {
   "cell_type": "code",
   "execution_count": null,
   "id": "4d19cb45-3499-47e2-b5b8-2096bc0fc268",
   "metadata": {
    "has_explanation": false,
    "jupyter": {
     "source_hidden": true
    }
   },
   "outputs": [],
   "source": [
    "def SIR_draw(agent):\n",
    "    \"\"\"\n",
    "    Portrayal Method for canvas\n",
    "    \"\"\"\n",
    "    portrayal = {}\n",
    "    if agent.atype == \"Susceptible\":\n",
    "        portrayal[\"color\"] = \"Green\"\n",
    "    elif agent.atype == \"Infected\":\n",
    "        portrayal[\"color\"] = \"Red\"\n",
    "    elif agent.atype == \"Recovered\":\n",
    "        portrayal[\"color\"] = \"Blue\"\n",
    "    else: \n",
    "        portrayal[\"color\"] = \"Black\"\n",
    "    return portrayal\n",
    "\n",
    "#pop_size=30, init_infected=0.2, exposure_distance=500, infection_risk=0.2\n",
    "model_params = {\n",
    "    \"pop_size\": {\n",
    "        \"type\": \"SliderInt\",\n",
    "        \"value\": 30,\n",
    "        \"label\": \"Population Size\",\n",
    "        \"min\": 0,\n",
    "        \"max\": 100, \n",
    "        \"step\": 1,\n",
    "    },\n",
    "    \"init_infected\": {\n",
    "        \"type\": \"SliderInt\",\n",
    "        \"value\": 0.2,\n",
    "        \"label\": \"Initial Infection\",\n",
    "        \"min\": 0.0,\n",
    "        \"max\": 1.0,\n",
    "        \"step\": 0.1,\n",
    "    },\n",
    "    \"exposure_distance\": {\n",
    "        \"type\": \"SliderInt\",\n",
    "        \"value\": 500,\n",
    "        \"label\": \"Exposure Distance\",\n",
    "        \"min\": 100,\n",
    "        \"max\": 1000, \n",
    "        \"step\": 50,\n",
    "    },\n",
    "    \"infection_risk\": {\n",
    "        \"type\": \"SliderFloat\",\n",
    "        \"value\": 0.2,\n",
    "        \"label\": \"Infection Risk\",\n",
    "        \"min\": 0.0,\n",
    "        \"max\": 1.0,\n",
    "        \"step\": 0.1,\n",
    "}}"
   ]
  },
  {
   "cell_type": "code",
   "execution_count": null,
   "id": "daf1d216-0001-45c6-9527-450036d42764",
   "metadata": {
    "has_explanation": false,
    "jupyter": {
     "source_hidden": true
    }
   },
   "outputs": [],
   "source": [
    "page = mgv.GeoJupyterViz(\n",
    "    GeoSir,\n",
    "    model_params,\n",
    "    measures= [[\"infected\", \"susceptible\", \"recovered\", \"dead\"]],\n",
    "    name=\"GeoSIR\",\n",
    "    agent_portrayal=SIR_draw,\n",
    "    zoom=12,\n",
    "    #center_point=[43.75, -79.35]\n",
    ")\n",
    "# This is required to render the visualization in the Jupyter notebook\n",
    "page"
   ]
  },
  {
   "cell_type": "code",
   "execution_count": null,
   "id": "50c09857-013d-4b44-a572-6908eeb85452",
   "metadata": {
    "has_explanation": false,
    "jupyter": {
     "source_hidden": true
    }
   },
   "outputs": [],
   "source": []
  },
  {
   "cell_type": "code",
   "execution_count": null,
   "id": "dfad5066-3e82-4086-b3a8-621cf71e5413",
   "metadata": {
    "has_explanation": false,
    "jupyter": {
     "source_hidden": true
    }
   },
   "outputs": [],
   "source": []
  },
  {
   "cell_type": "code",
   "execution_count": null,
   "id": "61f91fe5-55c1-4dc7-8786-a9b76ce7475b",
   "metadata": {
    "has_explanation": false,
    "jupyter": {
     "source_hidden": true
    }
   },
   "outputs": [],
   "source": []
  }
 ],
 "metadata": {
  "kernelspec": {
   "display_name": "Xeus-Python (Python 3.10)",
   "language": "python",
   "name": "mesa_geo"
  },
  "language_info": {
   "codemirror_mode": {
    "name": "ipython",
    "version": 3
   },
   "file_extension": ".py",
   "mimetype": "text/x-python",
   "name": "python",
   "nbconvert_exporter": "python",
   "pygments_lexer": "ipython3",
   "version": "3.12.3"
  }
 },
 "nbformat": 4,
 "nbformat_minor": 5
}
