{
 "cells": [
  {
   "cell_type": "code",
   "execution_count": null,
   "id": "361fe578-2e32-422a-9ea5-cf8a37c5107c",
   "metadata": {
    "has_explanation": false,
    "jupyter": {
     "source_hidden": true
    }
   },
   "outputs": [],
   "source": [
    "import folium\n",
    "\n",
    "# Create a map\n",
    "m = folium.Map(location=[45.5236, -122.6750], zoom_start=13)\n",
    "\n",
    "# Example GeoJSON data\n",
    "geojson_data = {\n",
    "    \"type\": \"FeatureCollection\",\n",
    "    \"features\": [\n",
    "        {\n",
    "            \"type\": \"Feature\",\n",
    "            \"geometry\": {\n",
    "                \"type\": \"Point\",\n",
    "                \"coordinates\": [-122.6750, 45.5236]\n",
    "            },\n",
    "            \"properties\": {\n",
    "                \"name\": \"Location 1\"\n",
    "            }\n",
    "        },\n",
    "        {\n",
    "            \"type\": \"Feature\",\n",
    "            \"geometry\": {\n",
    "                \"type\": \"Point\",\n",
    "                \"coordinates\": [-122.6760, 45.5246]\n",
    "            },\n",
    "            \"properties\": {\n",
    "                \"name\": \"Location 2\"\n",
    "            }\n",
    "        }\n",
    "    ]\n",
    "}\n",
    "\n",
    "# Iterate through GeoJSON features and add CircleMarkers\n",
    "for feature in geojson_data['features']:\n",
    "    coordinates = feature['geometry']['coordinates']\n",
    "    properties = feature['properties']\n",
    "    folium.CircleMarker(\n",
    "        location=[coordinates[1], coordinates[0]],  # Note the order: [lat, lon]\n",
    "        radius=8,  # Radius of the circle marker in pixels\n",
    "        color='green',\n",
    "        fill=True,\n",
    "        fill_color='green',\n",
    "        fill_opacity=0.6,\n",
    "        popup=folium.Popup(properties.get('name'))\n",
    "    ).add_to(m)\n",
    "\n",
    "# Save the map to an HTML file\n",
    "m\n"
   ]
  },
  {
   "cell_type": "code",
   "execution_count": null,
   "id": "52daeac6-0d21-4b32-81fc-6459cea1dd3f",
   "metadata": {
    "has_explanation": false,
    "jupyter": {
     "source_hidden": true
    }
   },
   "outputs": [],
   "source": [
    "import json\n",
    "from ipyleaflet import Map, GeoJSON, CircleMarker\n",
    "\n",
    "\n",
    "m = Map(center=(39.8283, -98.5795), zoom=4)\n",
    "\n",
    "# Define a style callback function\n",
    "def style_function(feature):\n",
    "    return {\n",
    "        \"point\": {\"shape\": \"circle\", \"radius\": 8, \"color\": \"blue\", \"fillOpacity\": 0.8}\n",
    "    }\n",
    "\n",
    "# Create a GeoJSON layer with the style callback\n",
    "geojson_layer = GeoJSON(data=geojson_data, style_callback=style_function)\n",
    "print(geojson_layer)\n",
    "# Add the GeoJSON layer to the map\n",
    "m.add_layer(geojson_layer)\n",
    "\n",
    "m"
   ]
  },
  {
   "cell_type": "code",
   "execution_count": 5,
   "id": "187bc7c7-cb36-4e15-bcfd-96f5dcbdcd7c",
   "metadata": {
    "has_explanation": false,
    "jupyter": {
     "source_hidden": true
    }
   },
   "outputs": [
    {
     "name": "stdout",
     "output_type": "stream",
     "text": [
      "GeoJSON(data={'type': 'FeatureCollection', 'features': [{'type': 'Feature', 'geometry': {'type': 'Point', 'coordinates': [0, 0]}, 'properties': {'marker_type': 'circle'}}, {'type': 'Feature', 'geometry': {'type': 'Point', 'coordinates': [10, 10]}, 'properties': {'marker_type': 'circle', 'radius': 15, 'color': 'green', 'fill_color': 'yellow', 'fill_opacity': 0.6}}]})\n"
     ]
    },
    {
     "data": {
      "application/vnd.jupyter.widget-view+json": {
       "model_id": "44a5ca479fb04062bb8c91e7e5c002a0",
       "version_major": 2,
       "version_minor": 0
      },
      "text/plain": [
       "Map(center=[5, 5], controls=(ZoomControl(options=['position', 'zoom_in_text', 'zoom_in_title', 'zoom_out_text'…"
      ]
     },
     "execution_count": 5,
     "metadata": {},
     "output_type": "execute_result"
    }
   ],
   "source": [
    "from ipyleaflet import Map, GeoJSON, Marker, CircleMarker, Icon\n",
    "\n",
    "# Define your GeoJSON data\n",
    "geojson_data = {\n",
    "    \"type\": \"FeatureCollection\",\n",
    "    \"features\": [\n",
    "        {\n",
    "            \"type\": \"Feature\",\n",
    "            \"geometry\": {\n",
    "                \"type\": \"Point\",\n",
    "                \"coordinates\": [0, 0]\n",
    "            },\n",
    "            \"properties\": {\n",
    "                \"marker_type\": \"circle\",\n",
    "            }\n",
    "        },\n",
    "        {\n",
    "            \"type\": \"Feature\",\n",
    "            \"geometry\": {\n",
    "                \"type\": \"Point\",\n",
    "                \"coordinates\": [10, 10]\n",
    "            },\n",
    "            \"properties\": {\n",
    "                \"marker_type\": \"circle\",\n",
    "                \"radius\": 15,\n",
    "                \"color\": \"green\",\n",
    "                \"fill_color\": \"yellow\",\n",
    "                \"fill_opacity\": 0.6\n",
    "            }\n",
    "        }\n",
    "    ]\n",
    "}\n",
    "\n",
    "# Define a function to create different types of markers\n",
    "def custom_marker(feature, latlng):\n",
    "    marker_type = feature['properties'].get('marker_type', 'default')\n",
    "    print(marker_type)\n",
    "    if marker_type == 'icon':\n",
    "        icon_url = feature['properties'].get('icon_url', '')\n",
    "        return Marker(location=latlng, icon=Icon(icon_url=icon_url, icon_size=[25, 41], icon_anchor=[12, 41]))\n",
    "    \n",
    "    elif marker_type == 'circle':\n",
    "        radius = feature['properties'].get('radius', 10)\n",
    "        color = feature['properties'].get('color', 'blue')\n",
    "        fill_color = feature['properties'].get('fill_color', 'blue')\n",
    "        fill_opacity = feature['properties'].get('fill_opacity', 0.5)\n",
    "        print(\"this called\")\n",
    "        return CircleMarker(location=latlng, radius=radius, color=color, fill_color=fill_color, fill_opacity=fill_opacity)\n",
    "    \n",
    "    else:\n",
    "        # Default marker\n",
    "        return Marker(location=latlng)\n",
    "\n",
    "# Create a GeoJSON layer with the custom markers\n",
    "geojson_layer = GeoJSON(data=geojson_data, pointToLayer=custom_marker)\n",
    "print(geojson_layer)\n",
    "# Create a map and add the GeoJSON layer\n",
    "m = Map(center=(5, 5), zoom=2)\n",
    "m.add_layer(geojson_layer)\n",
    "\n",
    "m"
   ]
  },
  {
   "cell_type": "code",
   "execution_count": null,
   "id": "9a68c218-ed4a-4444-8952-0c21455fb1f2",
   "metadata": {
    "has_explanation": false,
    "jupyter": {
     "source_hidden": true
    }
   },
   "outputs": [],
   "source": []
  }
 ],
 "metadata": {
  "kernelspec": {
   "display_name": "Xeus-Python (Python 3.10)",
   "language": "python",
   "name": "mesa_geo"
  },
  "language_info": {
   "codemirror_mode": {
    "name": "ipython",
    "version": 3
   },
   "file_extension": ".py",
   "mimetype": "text/x-python",
   "name": "python",
   "nbconvert_exporter": "python",
   "pygments_lexer": "ipython3",
   "version": "3.12.3"
  }
 },
 "nbformat": 4,
 "nbformat_minor": 5
}
